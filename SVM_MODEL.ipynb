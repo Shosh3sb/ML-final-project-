{
 "cells": [
  {
   "cell_type": "markdown",
   "metadata": {
    "id": "BcrR6M4s2lVA"
   },
   "source": [
    "# Predictive maintenance using machine learning techniques(by SVM)"
   ]
  },
  {
   "cell_type": "markdown",
   "metadata": {
    "id": "jkKWYYhx3Ctt"
   },
   "source": [
    "Our task is to classify these 10 types of fault given time data. There are many approaches to solve this. We will take one known as 'Shallow Approach'. In the age of deep learning these methods are shallow for several reasons. These methods require hand crafted features to be designed and fed into the learning algorithm. Another name for shallow approach is feature based approach. We will use support vector machine (SVM) to do the classification. We will apply other techniques including machin learning techniques in later posts.\n",
    "\n",
    "   We have used time domain features as input to SVM. First data for each fault type are collected and segmented into smaller parts. In our case, one segment for each fault type contains 2048 data points. Then time domain features for each segment are calculated and assembled in a feature matrix. There are 230 segments for each fault and we have taken 9 time domain features. The time domain features are maximum, minimum, mean value, standard deviation, root mean square value (RMS), skewness, kurtosis, crest factor, and form factor. Thus our feature matrix is of size (2300×9). One column containing fault type is also added to the feature matrix. Thus final feature matrix is of size (2300×10)."
   ]
  },
  {
   "cell_type": "markdown",
   "metadata": {
    "id": "M5hmlt-E4Ohu"
   },
   "source": [
    "Import used libraries"
   ]
  },
  {
   "cell_type": "code",
   "execution_count": 15,
   "metadata": {
    "id": "pzFvnuft2tE8"
   },
   "outputs": [],
   "source": [
    "import pandas as pd\n",
    "import numpy as np\n",
    "from sklearn.model_selection import train_test_split\n",
    "from sklearn.preprocessing import StandardScaler\n",
    "from sklearn.model_selection import GridSearchCV\n",
    "from sklearn.svm import SVC\n",
    "from sklearn.metrics import confusion_matrix,accuracy_score\n",
    "import seaborn as sns\n",
    "import matplotlib.pyplot as plt"
   ]
  },
  {
   "cell_type": "markdown",
   "metadata": {
    "id": "llUP0IJc4hkr"
   },
   "source": [
    "Read data:\n",
    "we are reading the data file (which you downloaded from Kaggle) from Google Drive"
   ]
  },
  {
   "cell_type": "code",
   "execution_count": 16,
   "metadata": {
    "id": "aGTUI86QQ8Wm"
   },
   "outputs": [],
   "source": [
    "data= pd.read_csv('feature_time_48k_2048_load_1.csv')"
   ]
  },
  {
   "cell_type": "code",
   "execution_count": 17,
   "metadata": {
    "id": "XQu4sNlaDRYn"
   },
   "outputs": [
    {
     "data": {
      "text/html": [
       "<div>\n",
       "<style scoped>\n",
       "    .dataframe tbody tr th:only-of-type {\n",
       "        vertical-align: middle;\n",
       "    }\n",
       "\n",
       "    .dataframe tbody tr th {\n",
       "        vertical-align: top;\n",
       "    }\n",
       "\n",
       "    .dataframe thead th {\n",
       "        text-align: right;\n",
       "    }\n",
       "</style>\n",
       "<table border=\"1\" class=\"dataframe\">\n",
       "  <thead>\n",
       "    <tr style=\"text-align: right;\">\n",
       "      <th></th>\n",
       "      <th>max</th>\n",
       "      <th>min</th>\n",
       "      <th>mean</th>\n",
       "      <th>sd</th>\n",
       "      <th>rms</th>\n",
       "      <th>skewness</th>\n",
       "      <th>kurtosis</th>\n",
       "      <th>crest</th>\n",
       "      <th>form</th>\n",
       "      <th>fault</th>\n",
       "    </tr>\n",
       "  </thead>\n",
       "  <tbody>\n",
       "    <tr>\n",
       "      <th>0</th>\n",
       "      <td>0.35986</td>\n",
       "      <td>-0.41890</td>\n",
       "      <td>0.017840</td>\n",
       "      <td>0.122746</td>\n",
       "      <td>0.124006</td>\n",
       "      <td>-0.118571</td>\n",
       "      <td>-0.042219</td>\n",
       "      <td>2.901946</td>\n",
       "      <td>6.950855</td>\n",
       "      <td>Ball_007_1</td>\n",
       "    </tr>\n",
       "    <tr>\n",
       "      <th>1</th>\n",
       "      <td>0.46772</td>\n",
       "      <td>-0.36111</td>\n",
       "      <td>0.022255</td>\n",
       "      <td>0.132488</td>\n",
       "      <td>0.134312</td>\n",
       "      <td>0.174699</td>\n",
       "      <td>-0.081548</td>\n",
       "      <td>3.482334</td>\n",
       "      <td>6.035202</td>\n",
       "      <td>Ball_007_1</td>\n",
       "    </tr>\n",
       "    <tr>\n",
       "      <th>2</th>\n",
       "      <td>0.46855</td>\n",
       "      <td>-0.43809</td>\n",
       "      <td>0.020470</td>\n",
       "      <td>0.149651</td>\n",
       "      <td>0.151008</td>\n",
       "      <td>0.040339</td>\n",
       "      <td>-0.274069</td>\n",
       "      <td>3.102819</td>\n",
       "      <td>7.376926</td>\n",
       "      <td>Ball_007_1</td>\n",
       "    </tr>\n",
       "    <tr>\n",
       "      <th>3</th>\n",
       "      <td>0.58475</td>\n",
       "      <td>-0.54303</td>\n",
       "      <td>0.020960</td>\n",
       "      <td>0.157067</td>\n",
       "      <td>0.158422</td>\n",
       "      <td>-0.023266</td>\n",
       "      <td>0.134692</td>\n",
       "      <td>3.691097</td>\n",
       "      <td>7.558387</td>\n",
       "      <td>Ball_007_1</td>\n",
       "    </tr>\n",
       "    <tr>\n",
       "      <th>4</th>\n",
       "      <td>0.44685</td>\n",
       "      <td>-0.57891</td>\n",
       "      <td>0.022167</td>\n",
       "      <td>0.138189</td>\n",
       "      <td>0.139922</td>\n",
       "      <td>-0.081534</td>\n",
       "      <td>0.402783</td>\n",
       "      <td>3.193561</td>\n",
       "      <td>6.312085</td>\n",
       "      <td>Ball_007_1</td>\n",
       "    </tr>\n",
       "    <tr>\n",
       "      <th>...</th>\n",
       "      <td>...</td>\n",
       "      <td>...</td>\n",
       "      <td>...</td>\n",
       "      <td>...</td>\n",
       "      <td>...</td>\n",
       "      <td>...</td>\n",
       "      <td>...</td>\n",
       "      <td>...</td>\n",
       "      <td>...</td>\n",
       "      <td>...</td>\n",
       "    </tr>\n",
       "    <tr>\n",
       "      <th>2295</th>\n",
       "      <td>0.21425</td>\n",
       "      <td>-0.19839</td>\n",
       "      <td>0.010769</td>\n",
       "      <td>0.064100</td>\n",
       "      <td>0.064983</td>\n",
       "      <td>-0.212497</td>\n",
       "      <td>-0.119312</td>\n",
       "      <td>3.297037</td>\n",
       "      <td>6.034174</td>\n",
       "      <td>Normal_1</td>\n",
       "    </tr>\n",
       "    <tr>\n",
       "      <th>2296</th>\n",
       "      <td>0.21967</td>\n",
       "      <td>-0.20882</td>\n",
       "      <td>0.013136</td>\n",
       "      <td>0.068654</td>\n",
       "      <td>0.069883</td>\n",
       "      <td>-0.061308</td>\n",
       "      <td>-0.295122</td>\n",
       "      <td>3.143410</td>\n",
       "      <td>5.319958</td>\n",
       "      <td>Normal_1</td>\n",
       "    </tr>\n",
       "    <tr>\n",
       "      <th>2297</th>\n",
       "      <td>0.20799</td>\n",
       "      <td>-0.21613</td>\n",
       "      <td>0.012571</td>\n",
       "      <td>0.067128</td>\n",
       "      <td>0.068279</td>\n",
       "      <td>-0.154754</td>\n",
       "      <td>-0.071405</td>\n",
       "      <td>3.046161</td>\n",
       "      <td>5.431299</td>\n",
       "      <td>Normal_1</td>\n",
       "    </tr>\n",
       "    <tr>\n",
       "      <th>2298</th>\n",
       "      <td>0.21425</td>\n",
       "      <td>-0.22405</td>\n",
       "      <td>0.012608</td>\n",
       "      <td>0.066813</td>\n",
       "      <td>0.067977</td>\n",
       "      <td>-0.326966</td>\n",
       "      <td>0.023662</td>\n",
       "      <td>3.151821</td>\n",
       "      <td>5.391672</td>\n",
       "      <td>Normal_1</td>\n",
       "    </tr>\n",
       "    <tr>\n",
       "      <th>2299</th>\n",
       "      <td>0.19610</td>\n",
       "      <td>-0.24721</td>\n",
       "      <td>0.012209</td>\n",
       "      <td>0.063243</td>\n",
       "      <td>0.064396</td>\n",
       "      <td>-0.351762</td>\n",
       "      <td>0.226294</td>\n",
       "      <td>3.045244</td>\n",
       "      <td>5.274392</td>\n",
       "      <td>Normal_1</td>\n",
       "    </tr>\n",
       "  </tbody>\n",
       "</table>\n",
       "<p>2300 rows × 10 columns</p>\n",
       "</div>"
      ],
      "text/plain": [
       "          max      min      mean        sd       rms  skewness  kurtosis  \\\n",
       "0     0.35986 -0.41890  0.017840  0.122746  0.124006 -0.118571 -0.042219   \n",
       "1     0.46772 -0.36111  0.022255  0.132488  0.134312  0.174699 -0.081548   \n",
       "2     0.46855 -0.43809  0.020470  0.149651  0.151008  0.040339 -0.274069   \n",
       "3     0.58475 -0.54303  0.020960  0.157067  0.158422 -0.023266  0.134692   \n",
       "4     0.44685 -0.57891  0.022167  0.138189  0.139922 -0.081534  0.402783   \n",
       "...       ...      ...       ...       ...       ...       ...       ...   \n",
       "2295  0.21425 -0.19839  0.010769  0.064100  0.064983 -0.212497 -0.119312   \n",
       "2296  0.21967 -0.20882  0.013136  0.068654  0.069883 -0.061308 -0.295122   \n",
       "2297  0.20799 -0.21613  0.012571  0.067128  0.068279 -0.154754 -0.071405   \n",
       "2298  0.21425 -0.22405  0.012608  0.066813  0.067977 -0.326966  0.023662   \n",
       "2299  0.19610 -0.24721  0.012209  0.063243  0.064396 -0.351762  0.226294   \n",
       "\n",
       "         crest      form       fault  \n",
       "0     2.901946  6.950855  Ball_007_1  \n",
       "1     3.482334  6.035202  Ball_007_1  \n",
       "2     3.102819  7.376926  Ball_007_1  \n",
       "3     3.691097  7.558387  Ball_007_1  \n",
       "4     3.193561  6.312085  Ball_007_1  \n",
       "...        ...       ...         ...  \n",
       "2295  3.297037  6.034174    Normal_1  \n",
       "2296  3.143410  5.319958    Normal_1  \n",
       "2297  3.046161  5.431299    Normal_1  \n",
       "2298  3.151821  5.391672    Normal_1  \n",
       "2299  3.045244  5.274392    Normal_1  \n",
       "\n",
       "[2300 rows x 10 columns]"
      ]
     },
     "execution_count": 17,
     "metadata": {},
     "output_type": "execute_result"
    }
   ],
   "source": [
    "data"
   ]
  },
  {
   "cell_type": "code",
   "execution_count": 18,
   "metadata": {
    "id": "PifHo4v6SCJS"
   },
   "outputs": [],
   "source": [
    "data['fault'] = pd.Categorical(data['fault'])"
   ]
  },
  {
   "cell_type": "markdown",
   "metadata": {
    "id": "vOYf2TO-5NpH"
   },
   "source": [
    "Divide the into training and test set."
   ]
  },
  {
   "cell_type": "code",
   "execution_count": 19,
   "metadata": {
    "id": "Xhnmz8_XSGvZ"
   },
   "outputs": [
    {
     "data": {
      "text/plain": [
       "Ball_007_1    46\n",
       "Ball_014_1    46\n",
       "Ball_021_1    46\n",
       "IR_007_1      46\n",
       "IR_014_1      46\n",
       "IR_021_1      46\n",
       "Normal_1      46\n",
       "OR_007_6_1    46\n",
       "OR_014_6_1    46\n",
       "OR_021_6_1    46\n",
       "Name: fault, dtype: int64"
      ]
     },
     "execution_count": 19,
     "metadata": {},
     "output_type": "execute_result"
    }
   ],
   "source": [
    "train_data, test_data = train_test_split(data, test_size = 0.2, stratify = data['fault'],\n",
    "                                         random_state = 123)\n",
    "test_data['fault'].value_counts()"
   ]
  },
  {
   "cell_type": "markdown",
   "metadata": {
    "id": "xWTrxNLs5Tv_"
   },
   "source": [
    "Data preprocessing:\n",
    "Before applying SVM, it is always a better idea to scale the data."
   ]
  },
  {
   "cell_type": "code",
   "execution_count": 20,
   "metadata": {
    "id": "j57N28wNSF_m"
   },
   "outputs": [],
   "source": [
    "scaler = StandardScaler()\n",
    "train_data_scaled = scaler.fit_transform(train_data.iloc[:,:-1])\n",
    "test_data_scaled = (test_data.iloc[:,:-1].values - scaler.mean_)/np.sqrt(scaler.var_)"
   ]
  },
  {
   "cell_type": "markdown",
   "metadata": {
    "id": "qUqIXOQX5y1X"
   },
   "source": [
    "Model of support vector machine:\n",
    "\n",
    "We will check a grid of parameters to find the best one. For each parameter combination, 10 fold cross-validation is performed."
   ]
  },
  {
   "cell_type": "code",
   "execution_count": 21,
   "metadata": {
    "id": "pjFdob55SFOw"
   },
   "outputs": [
    {
     "data": {
      "text/plain": [
       "GridSearchCV(cv=10, estimator=SVC(), n_jobs=-1,\n",
       "             param_grid={'C': [1, 10, 50, 100, 500, 5000],\n",
       "                         'gamma': [0.05, 0.1, 0.5, 1, 5],\n",
       "                         'kernel': ['linear']})"
      ]
     },
     "execution_count": 21,
     "metadata": {},
     "output_type": "execute_result"
    }
   ],
   "source": [
    "parameters = {\"C\":[1, 10, 50, 100, 500, 5000],\n",
    "             'gamma':[0.05, 0.1, 0.5, 1, 5],\n",
    "             'kernel':[\"linear\"]}\n",
    "tuned_svm_clf = GridSearchCV(SVC(),parameters,n_jobs = -1, cv= 10)\n",
    "tuned_svm_clf.fit(train_data_scaled, train_data['fault'])"
   ]
  },
  {
   "cell_type": "code",
   "execution_count": 22,
   "metadata": {
    "id": "RKPY7y1qSEDq"
   },
   "outputs": [
    {
     "data": {
      "text/plain": [
       "0.9668478260869566"
      ]
     },
     "execution_count": 22,
     "metadata": {},
     "output_type": "execute_result"
    }
   ],
   "source": [
    "tuned_svm_clf.best_score_"
   ]
  },
  {
   "cell_type": "code",
   "execution_count": 23,
   "metadata": {
    "id": "j29IjWPeTGP2"
   },
   "outputs": [
    {
     "data": {
      "text/plain": [
       "{'C': 50, 'gamma': 0.05, 'kernel': 'linear'}"
      ]
     },
     "execution_count": 23,
     "metadata": {},
     "output_type": "execute_result"
    }
   ],
   "source": [
    "tuned_svm_clf.best_params_"
   ]
  },
  {
   "cell_type": "markdown",
   "metadata": {
    "id": "_K8PxXs26b6e"
   },
   "source": [
    "Now we will used the best model to find test accuracy."
   ]
  },
  {
   "cell_type": "code",
   "execution_count": 24,
   "metadata": {
    "id": "tFG3z1uzTFeE"
   },
   "outputs": [
    {
     "data": {
      "text/plain": [
       "SVC(C=50, gamma=0.05, kernel='linear')"
      ]
     },
     "execution_count": 24,
     "metadata": {},
     "output_type": "execute_result"
    }
   ],
   "source": [
    "best_clf = tuned_svm_clf.best_estimator_\n",
    "best_clf"
   ]
  },
  {
   "cell_type": "markdown",
   "metadata": {
    "id": "zQEgUcAZ6udp"
   },
   "source": [
    "Prediction of Model:"
   ]
  },
  {
   "cell_type": "code",
   "execution_count": 25,
   "metadata": {
    "id": "zvWldYcBTEt6"
   },
   "outputs": [],
   "source": [
    "train_predictions = best_clf.predict(train_data_scaled)\n",
    "test_predictions = best_clf.predict(test_data_scaled)\n",
    "#confusion matrix of train and test\n",
    "train_confu_matrix = confusion_matrix(train_data['fault'], train_predictions)\n",
    "test_confu_matrix = confusion_matrix(test_data['fault'], test_predictions)"
   ]
  },
  {
   "cell_type": "markdown",
   "metadata": {
    "id": "PLcLiJKO7Nys"
   },
   "source": [
    "Plot the Train of confusion matrix."
   ]
  },
  {
   "cell_type": "code",
   "execution_count": 26,
   "metadata": {
    "id": "KLQpFgewTDpi"
   },
   "outputs": [
    {
     "data": {
      "image/png": "[encoded data removed]",
      "text/plain": [
       "<Figure size 1296x576 with 3 Axes>"
      ]
     },
     "metadata": {
      "needs_background": "light"
     },
     "output_type": "display_data"
    }
   ],
   "source": [
    "fault_type = ['BF1','BF2','BF3','IF1','IF2','IF3','N','OF1','OF2','OF3']\n",
    "plt.figure(1,figsize=(18,8))\n",
    "plt.subplot(121)\n",
    "sns.heatmap(train_confu_matrix, annot= True,fmt = \"d\",\n",
    "xticklabels=fault_type, yticklabels=fault_type, cmap = \"Blues\")\n",
    "plt.title('Training Confusion Matrix')\n",
    "plt.xlabel('Predicted')\n",
    "plt.ylabel('True')\n",
    "plt.subplot(122)\n",
    "sns.heatmap(train_confu_matrix/184, annot= True,\n",
    "xticklabels=fault_type, yticklabels=fault_type, cmap = \"Blues\", cbar = False)\n",
    "plt.title('Training Confusion Matrix (in %age)')\n",
    "plt.xlabel('Predicted')\n",
    "plt.ylabel('True')\n",
    "plt.show()"
   ]
  },
  {
   "cell_type": "markdown",
   "metadata": {
    "id": "a4ggI3xm7o_O"
   },
   "source": [
    "Plot the test of confusion matrix."
   ]
  },
  {
   "cell_type": "code",
   "execution_count": 27,
   "metadata": {
    "id": "ozFDhcyWTpGA"
   },
   "outputs": [
    {
     "data": {
      "image/png": "[encoded data removed]",
      "text/plain": [
       "<Figure size 1800x576 with 3 Axes>"
      ]
     },
     "metadata": {
      "needs_background": "light"
     },
     "output_type": "display_data"
    }
   ],
   "source": [
    "plt.figure(2,figsize=(25,8))\n",
    "plt.subplot(121)\n",
    "sns.heatmap(test_confu_matrix, annot = True,\n",
    "xticklabels=fault_type, yticklabels=fault_type, cmap = \"Blues\")\n",
    "plt.title('Test Confusion Matrix')\n",
    "plt.xlabel('Predicted')\n",
    "plt.ylabel('True')\n",
    "plt.subplot(122)\n",
    "sns.heatmap(test_confu_matrix/46, annot = True,\n",
    "xticklabels=fault_type, yticklabels=fault_type, cmap = \"Blues\", cbar = False)\n",
    "plt.title('Test Confusion Matrix (in %age)')\n",
    "plt.xlabel('Predicted')\n",
    "plt.ylabel('True')\n",
    "plt.show()"
   ]
  },
  {
   "cell_type": "markdown",
   "metadata": {
    "id": "5erZzfBr7zHu"
   },
   "source": []
  },
  {
   "cell_type": "code",
   "execution_count": 28,
   "metadata": {
    "id": "NyMSmKz6ToJ7"
   },
   "outputs": [
    {
     "name": "stdout",
     "output_type": "stream",
     "text": [
      "Overall test accuracy:  0.9586956521739131\n"
     ]
    }
   ],
   "source": [
    "overall_test_accuracy = accuracy_score(test_data['fault'], test_predictions)\n",
    "print(\"Overall test accuracy: \", overall_test_accuracy)"
   ]
  },
  {
   "cell_type": "markdown",
   "metadata": {
    "id": "eaPUDL5y8NtI"
   },
   "source": [
    "The overall test accuracy is 95.87% which is pretty satisfactory considering the fact that we are only taking time domain features"
   ]
  },
  {
   "cell_type": "code",
   "execution_count": null,
   "metadata": {},
   "outputs": [],
   "source": []
  },
  {
   "cell_type": "code",
   "execution_count": null,
   "metadata": {},
   "outputs": [],
   "source": []
  },
  {
   "cell_type": "code",
   "execution_count": null,
   "metadata": {},
   "outputs": [],
   "source": []
  }
 ],
 "metadata": {
  "accelerator": "GPU",
  "colab": {
   "collapsed_sections": [],
   "private_outputs": true,
   "provenance": []
  },
  "kernelspec": {
   "display_name": "Python 3 (ipykernel)",
   "language": "python",
   "name": "python3"
  },
  "language_info": {
   "codemirror_mode": {
    "name": "ipython",
    "version": 3
   },
   "file_extension": ".py",
   "mimetype": "text/x-python",
   "name": "python",
   "nbconvert_exporter": "python",
   "pygments_lexer": "ipython3",
   "version": "3.9.7"
  }
 },
 "nbformat": 4,
 "nbformat_minor": 4
}
